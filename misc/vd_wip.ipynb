{
 "cells": [
  {
   "cell_type": "markdown",
   "id": "c528c38d",
   "metadata": {},
   "source": [
    "# VD WIP"
   ]
  },
  {
   "cell_type": "code",
   "execution_count": null,
   "id": "e4886e8b",
   "metadata": {},
   "outputs": [],
   "source": []
  },
  {
   "cell_type": "markdown",
   "id": "42d8ebd7",
   "metadata": {},
   "source": [
    "## Scrap"
   ]
  },
  {
   "cell_type": "code",
   "execution_count": null,
   "id": "503e064b",
   "metadata": {},
   "outputs": [
    {
     "data": {
      "text/plain": [
       "(<Signature (a, *, b=5, c=3, d=4)>, <Sig (a, *, b=5, c=3, d=4)>)"
      ]
     },
     "execution_count": 4,
     "metadata": {},
     "output_type": "execute_result"
    }
   ],
   "source": [
    "from front import crude\n",
    "import vd"
   ]
  },
  {
   "cell_type": "code",
   "execution_count": 1,
   "id": "d66aadd2",
   "metadata": {},
   "outputs": [
    {
     "data": {
      "text/plain": [
       "<module 'strand' from '/Users/thorwhalen/Dropbox/py/proj/i/strand/strand/__init__.py'>"
      ]
     },
     "execution_count": 1,
     "metadata": {},
     "output_type": "execute_result"
    }
   ],
   "source": [
    "import strand\n",
    "\n",
    "strand"
   ]
  },
  {
   "cell_type": "code",
   "execution_count": 2,
   "id": "0d165306",
   "metadata": {},
   "outputs": [
    {
     "ename": "TypeError",
     "evalue": "'module' object is not callable",
     "output_type": "error",
     "traceback": [
      "\u001b[0;31m---------------------------------------------------------------------------\u001b[0m",
      "\u001b[0;31mTypeError\u001b[0m                                 Traceback (most recent call last)",
      "Cell \u001b[0;32mIn[2], line 3\u001b[0m\n\u001b[1;32m      1\u001b[0m \u001b[38;5;28;01mimport\u001b[39;00m\u001b[38;5;250m \u001b[39m\u001b[38;5;21;01mdill\u001b[39;00m \n\u001b[0;32m----> 3\u001b[0m \u001b[43mdill\u001b[49m\u001b[43m(\u001b[49m\u001b[38;5;28;43;01mlambda\u001b[39;49;00m\u001b[43m \u001b[49m\u001b[43mx\u001b[49m\u001b[43m:\u001b[49m\u001b[43m \u001b[49m\u001b[43mx\u001b[49m\u001b[43m)\u001b[49m\n",
      "\u001b[0;31mTypeError\u001b[0m: 'module' object is not callable"
     ]
    }
   ],
   "source": [
    "import dill \n",
    "\n",
    "dill(lambda x: x)"
   ]
  },
  {
   "cell_type": "code",
   "execution_count": null,
   "id": "586e33d7",
   "metadata": {},
   "outputs": [],
   "source": []
  },
  {
   "cell_type": "code",
   "execution_count": null,
   "id": "034cc952",
   "metadata": {},
   "outputs": [],
   "source": []
  },
  {
   "cell_type": "code",
   "execution_count": null,
   "id": "b8a18888",
   "metadata": {},
   "outputs": [],
   "source": []
  }
 ],
 "metadata": {
  "kernelspec": {
   "display_name": "p10",
   "language": "python",
   "name": "python3"
  },
  "language_info": {
   "codemirror_mode": {
    "name": "ipython",
    "version": 3
   },
   "file_extension": ".py",
   "mimetype": "text/x-python",
   "name": "python",
   "nbconvert_exporter": "python",
   "pygments_lexer": "ipython3",
   "version": "3.10.13"
  }
 },
 "nbformat": 4,
 "nbformat_minor": 5
}
